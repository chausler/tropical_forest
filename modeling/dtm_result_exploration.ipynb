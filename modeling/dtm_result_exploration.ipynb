{
 "cells": [
  {
   "cell_type": "code",
   "execution_count": null,
   "metadata": {
    "collapsed": true
   },
   "outputs": [],
   "source": [
    "import gensim\n",
    "from gensim import corpora, models, similarities\n",
    "\n",
    "import dtm_debug\n",
    "\n",
    "import pandas as pd\n",
    "\n",
    "from tabulate import tabulate"
   ]
  },
  {
   "cell_type": "code",
   "execution_count": null,
   "metadata": {
    "collapsed": true
   },
   "outputs": [],
   "source": [
    "# path for models\n",
    "model_path = '/home/yyang/models/'"
   ]
  },
  {
   "cell_type": "markdown",
   "metadata": {},
   "source": [
    "##load dtm models"
   ]
  },
  {
   "cell_type": "code",
   "execution_count": null,
   "metadata": {
    "collapsed": false
   },
   "outputs": [],
   "source": [
    "dtm_15_06_11_10topics = dtm_debug.DtmModel.load(model_path + 'dtm_15_06_11_10topics.model')"
   ]
  },
  {
   "cell_type": "code",
   "execution_count": null,
   "metadata": {
    "collapsed": true
   },
   "outputs": [],
   "source": [
    "dtm_15_06_11_15topics = dtm_debug.DtmModel.load(model_path + 'dtm_15_06_11_15topics.model')"
   ]
  },
  {
   "cell_type": "code",
   "execution_count": null,
   "metadata": {
    "collapsed": true
   },
   "outputs": [],
   "source": [
    "dtm_15_06_11_25topics = dtm_debug.DtmModel.load(model_path + 'dtm_15_06_11_25topics.model')"
   ]
  },
  {
   "cell_type": "markdown",
   "metadata": {},
   "source": [
    "##show topics in model"
   ]
  },
  {
   "cell_type": "code",
   "execution_count": null,
   "metadata": {
    "collapsed": true
   },
   "outputs": [],
   "source": [
    "def show_dtm_topics(model,wordnum):\n",
    "    count = 0\n",
    "    header = []\n",
    "    for i in range(wordnum):\n",
    "        header.append('word_{}'.format(i))\n",
    "    for i in range(len(model.show_topics(-1,1))):\n",
    "        alist = []\n",
    "        index = []\n",
    "        for j in range(len(model.show_topics(1,-1))):\n",
    "            alist.append([z[1] for z in model.show_topic(i,j,wordnum)])\n",
    "            index.append('time_{}'.format(j))\n",
    "        df = pd.DataFrame(alist, index=index)\n",
    "        print 'topic {}'.format(count)\n",
    "        print tabulate(df, headers=header, tablefmt='psql') + '\\n'\n",
    "        count += 1"
   ]
  },
  {
   "cell_type": "code",
   "execution_count": null,
   "metadata": {
    "collapsed": false,
    "scrolled": false
   },
   "outputs": [],
   "source": [
    "show_dtm_topics(dtm_15_06_11_10topics, 5)"
   ]
  },
  {
   "cell_type": "code",
   "execution_count": null,
   "metadata": {
    "collapsed": true
   },
   "outputs": [],
   "source": []
  }
 ],
 "metadata": {
  "kernelspec": {
   "display_name": "Python 2",
   "language": "python",
   "name": "python2"
  },
  "language_info": {
   "codemirror_mode": {
    "name": "ipython",
    "version": 2
   },
   "file_extension": ".py",
   "mimetype": "text/x-python",
   "name": "python",
   "nbconvert_exporter": "python",
   "pygments_lexer": "ipython2",
   "version": "2.7.12"
  }
 },
 "nbformat": 4,
 "nbformat_minor": 0
}
